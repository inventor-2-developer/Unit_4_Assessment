{
 "cells": [
  {
   "cell_type": "markdown",
   "metadata": {
    "id": "waA-CPPLFP96"
   },
   "source": [
    "# Unit 4 Assessment: Natural Language Processing\n",
    "----\n",
    "\n",
    "### Overview\n",
    "\n",
    "The Unit 4 assessment covers Natural Language Processing.  All of the questions for this assessment are contained in the `Unit_4_Assessment_unsolved.ipynb` Jupyter Notebook file. **The assessment is worth 50 points.**\n",
    "\n",
    "### Files\n",
    "\n",
    "Use the following link to download the assessment instructions and Jupyter Notebook file.\n",
    "\n",
    "[Download the Unit 4 Assessment resources](https://2u-data-curriculum-team.s3.amazonaws.com/nflx-data-science-adv/week-14/Assessment/Unit_4_Assessment.zip)\n",
    "\n",
    "### Instructions\n",
    "\n",
    "Keep the following mind while working on the assessment: \n",
    "\n",
    "* Remember that this is an individual assessment&mdash;you may not work with your classmates. However, you are free to consult your course notes and activities to help you answer the questions. \n",
    "\n",
    "* Although this assessment is delivered in a Jupyter Notebook, we recommend that make a copy of the `Unit_4_Assessment_unsolved.ipynb` file and upload into Google Colab. \n",
    "\n",
    "    > **Note:** If your answers are not clearly identified, you may receive a score of “0” for that question. \n",
    "\n",
    "* When you are ready to submit your assessment, rename the Google Colab notebook file with your last name. For example, `Unit_4_Assessment_<your_last_name>.ipynb`. Please do not clear your outputs if you have written code."
   ]
  },
  {
   "cell_type": "markdown",
   "metadata": {
    "id": "igYv6X7lDipu"
   },
   "source": [
    "## Question 1\n",
    "\n",
    "- **5 points**\n",
    "\n",
    "Regular expressions (regex) are an important tool for working with text data. Which of these would find, and then remove, any text that is not a letter or space?\n",
    "\n",
    "a. `regex = re.compile(\"[^0-9@#%!]\")\n",
    "  re_clean = regex.sub('  ', sentence)`\n",
    "\n",
    "b. `re_clean = regex.sub('  ', sentence)`\n",
    "\n",
    "c. `regex = re.compile(\"[^a-zA-Z ]\")\n",
    "  re_clean = regex.sub('  ', sentence)`\n",
    "\n",
    "d.`regex = re.compile(\"[a-zA-Z ]\")\n",
    "  re_clean = regex.sub('  ', sentence)`"
   ]
  },
  {
   "cell_type": "markdown",
   "metadata": {},
   "source": [
    "### Please provide answer below"
   ]
  },
  {
   "cell_type": "markdown",
   "metadata": {},
   "source": [
    "# C"
   ]
  },
  {
   "cell_type": "markdown",
   "metadata": {
    "id": "Sm6P_d7FDteo"
   },
   "source": [
    "## Question 2\n",
    "\n",
    "- **5 points**\n",
    "\n",
    "Tokenizing means to separate text into individual components, usually into individual words. Assuming the `sentence` object below is a string of text containing a sentence, which string method could you use to tokenize it?\n",
    "\n",
    "a. `sentence.str.replace('.','')`\n",
    "\n",
    "b. ``sentence.split('.')``\n",
    "\n",
    "c. ``tokenize(sentence)``\n",
    "\n",
    "d.  `sentence.split(' ')`"
   ]
  },
  {
   "cell_type": "markdown",
   "metadata": {},
   "source": [
    "### Please provide answer below"
   ]
  },
  {
   "cell_type": "markdown",
   "metadata": {},
   "source": [
    "# D"
   ]
  },
  {
   "cell_type": "markdown",
   "metadata": {
    "id": "u6aInLH5D2C4"
   },
   "source": [
    "## Question 3\n",
    "\n",
    "- **5 points**\n",
    "\n",
    "Assuming you were going to tokenize the above sentance using `nltk`, instead of a string method, which function would you use?\n",
    "\n",
    "a. `sentence_tokenize(sentence)`\n",
    "\n",
    "b. `tokenize(sentence)`\n",
    "\n",
    "c. `word_tokenize(sentence)` \n",
    "\n",
    "d. `split(sentence)`\n"
   ]
  },
  {
   "cell_type": "markdown",
   "metadata": {},
   "source": [
    "### Please provide answer below"
   ]
  },
  {
   "cell_type": "markdown",
   "metadata": {},
   "source": [
    "# C"
   ]
  },
  {
   "cell_type": "markdown",
   "metadata": {},
   "source": [
    "## Question 4\n",
    "\n",
    "- **5 points**\n",
    "\n",
    "When might you use a **word cloud**?\n",
    "\n",
    "\n",
    "a. When you want to visualize TF-IDF scores.\n",
    "\n",
    "b. When you want a table of meaning for a sentence.\n",
    "\n",
    "c. When you want to visualize sentiment scores for each word in a document.\n",
    "\n",
    "d. When you want to visually display the frequency count of words in an easy to understand way."
   ]
  },
  {
   "cell_type": "markdown",
   "metadata": {},
   "source": [
    "### Please provide answer below"
   ]
  },
  {
   "cell_type": "markdown",
   "metadata": {},
   "source": [
    "# D"
   ]
  },
  {
   "cell_type": "markdown",
   "metadata": {
    "id": "Rweor-nWEXQX"
   },
   "source": [
    "## Question 5\n",
    "\n",
    "- **5 points**\n",
    "\n",
    "TF-IDF is a method for scoring text. When you're looking at thousands of documents, which of the following would suggest a more interesting document that should be subjected to further analysis?\n",
    "\n",
    "\n",
    "a. A high TF-IDF score\n",
    "\n",
    "b. A low TF-IDF score\n",
    "\n",
    "c. No change in TF-IDF score\n"
   ]
  },
  {
   "cell_type": "markdown",
   "metadata": {},
   "source": [
    "### Please provide answer below"
   ]
  },
  {
   "cell_type": "markdown",
   "metadata": {},
   "source": [
    "# B"
   ]
  },
  {
   "cell_type": "markdown",
   "metadata": {
    "id": "cVgqBMJKEqJp"
   },
   "source": [
    "## Question 6\n",
    "\n",
    "- **5 points**\n",
    "\n",
    "VADER is a tool which can calculate the sentiment of a batch of text. Which of the following will the VADER algorithm return? \n",
    "\n",
    "a. Vader will provide a score for each word in each document\n",
    "\n",
    "b. A `final` score, summarizing all relevant information for the document\n",
    "\n",
    "c. Two values: `pos` and `neg` scores\n",
    "\n",
    "d. `pos`, `neu`, `neg`, and `compound` scores for each chunk of text analyzed\n"
   ]
  },
  {
   "cell_type": "markdown",
   "metadata": {},
   "source": [
    "### Please provide answer below"
   ]
  },
  {
   "cell_type": "markdown",
   "metadata": {},
   "source": [
    "# D"
   ]
  },
  {
   "cell_type": "markdown",
   "metadata": {},
   "source": [
    "## Question 7\n",
    "\n",
    "- **5 points**\n",
    "\n",
    "Which of the following is the correct syntax for estimating sentiment through VADER? \n",
    "\n",
    "a. `analyzer = SentimentIntensityAnalyzer()\n",
    "   analyzer.polarity_scores()`\n",
    "\n",
    "b. `analyzer.polarity_scores()`\n",
    "\n",
    "c. `SentimentIntensityAnalyzer()`\n",
    "\n",
    "d. `vaderize()`\n"
   ]
  },
  {
   "cell_type": "markdown",
   "metadata": {},
   "source": [
    "### Please provide answer below"
   ]
  },
  {
   "cell_type": "markdown",
   "metadata": {},
   "source": [
    "# A"
   ]
  },
  {
   "cell_type": "markdown",
   "metadata": {},
   "source": [
    "## Questions 8-10 (Coding Application Questions)\n",
    "\n",
    "Read in the dataset of lines of old poems ([curated](https://arxiv.org/abs/2011.02686) from Project Gutenberg), and download the `vader_lexicon` from `nltk`. \n",
    "\n",
    "After initializing the `SentimentIntensityAnalyzer`, estimate polarity scores for the lines of poetry. Save these scores to a DataFrame, in order to answer the questions which follow."
   ]
  },
  {
   "cell_type": "code",
   "execution_count": 2,
   "metadata": {
    "id": "uwIhrrWlUevj"
   },
   "outputs": [
    {
     "data": {
      "text/html": [
       "<div>\n",
       "<style scoped>\n",
       "    .dataframe tbody tr th:only-of-type {\n",
       "        vertical-align: middle;\n",
       "    }\n",
       "\n",
       "    .dataframe tbody tr th {\n",
       "        vertical-align: top;\n",
       "    }\n",
       "\n",
       "    .dataframe thead th {\n",
       "        text-align: right;\n",
       "    }\n",
       "</style>\n",
       "<table border=\"1\" class=\"dataframe\">\n",
       "  <thead>\n",
       "    <tr style=\"text-align: right;\">\n",
       "      <th></th>\n",
       "      <th>poetry_line</th>\n",
       "    </tr>\n",
       "  </thead>\n",
       "  <tbody>\n",
       "    <tr>\n",
       "      <th>1</th>\n",
       "      <td>it flows so long as falls the rain,</td>\n",
       "    </tr>\n",
       "    <tr>\n",
       "      <th>2</th>\n",
       "      <td>and that is why, the lonesome day,</td>\n",
       "    </tr>\n",
       "    <tr>\n",
       "      <th>3</th>\n",
       "      <td>when i peruse the conquered fame of heroes, an...</td>\n",
       "    </tr>\n",
       "    <tr>\n",
       "      <th>4</th>\n",
       "      <td>of inward strife for truth and liberty.</td>\n",
       "    </tr>\n",
       "  </tbody>\n",
       "</table>\n",
       "</div>"
      ],
      "text/plain": [
       "                                         poetry_line\n",
       "1                it flows so long as falls the rain,\n",
       "2                 and that is why, the lonesome day,\n",
       "3  when i peruse the conquered fame of heroes, an...\n",
       "4            of inward strife for truth and liberty."
      ]
     },
     "execution_count": 2,
     "metadata": {},
     "output_type": "execute_result"
    }
   ],
   "source": [
    "# Create a temporary view of the poetry data.  \n",
    "import pandas as pd\n",
    "poems = pd.read_csv('../Resources/poems.csv')\n",
    "poems.iloc[1:5]"
   ]
  },
  {
   "cell_type": "code",
   "execution_count": 3,
   "metadata": {},
   "outputs": [
    {
     "name": "stderr",
     "output_type": "stream",
     "text": [
      "[nltk_data] Downloading package vader_lexicon to\n",
      "[nltk_data]     C:\\Users\\frank\\AppData\\Roaming\\nltk_data...\n"
     ]
    },
    {
     "data": {
      "text/plain": [
       "True"
      ]
     },
     "execution_count": 3,
     "metadata": {},
     "output_type": "execute_result"
    }
   ],
   "source": [
    "# Import the neccessaries\n",
    "import nltk\n",
    "from nltk.sentiment.vader import SentimentIntensityAnalyzer\n",
    "# Download/Update the VADER Lexicon\n",
    "nltk.download(\"vader_lexicon\")"
   ]
  },
  {
   "cell_type": "code",
   "execution_count": 23,
   "metadata": {},
   "outputs": [],
   "source": [
    "# Initialize the VADER sentiment analyzer\n",
    "analyzer = SentimentIntensityAnalyzer()"
   ]
  },
  {
   "cell_type": "code",
   "execution_count": 24,
   "metadata": {
    "colab": {
     "base_uri": "https://localhost:8080/"
    },
    "id": "vks4BtyYUevo",
    "outputId": "9cf62ba6-ab15-4129-b27b-2ca939cae20a"
   },
   "outputs": [
    {
     "data": {
      "text/plain": [
       "[{'poetry_line': 'with pale blue berries. in these peaceful shades--',\n",
       "  'compound': 0.4939,\n",
       "  'pos': 0.314,\n",
       "  'neg': 0.686,\n",
       "  'neu': 0.686},\n",
       " {'poetry_line': 'it flows so long as falls the rain,',\n",
       "  'compound': 0.0,\n",
       "  'pos': 0.0,\n",
       "  'neg': 1.0,\n",
       "  'neu': 1.0}]"
      ]
     },
     "execution_count": 24,
     "metadata": {},
     "output_type": "execute_result"
    }
   ],
   "source": [
    "# Iterate through each line to and calculate `polarity_scores`.\n",
    "# Save the scores to a list, appending each time a new row is scored.\n",
    "all_lines = []\n",
    "\n",
    "\n",
    "for value in poems[\"poetry_line\"]:\n",
    "    text=value\n",
    "    sentiment=analyzer.polarity_scores(value)\n",
    "    pos=sentiment['pos']\n",
    "    neg=sentiment['neu']\n",
    "    neu=sentiment['neu']\n",
    "    compound=sentiment['compound']\n",
    "    \n",
    "    all_lines.append({\n",
    "            \"poetry_line\": text,\n",
    "            \"compound\": compound,\n",
    "            \"pos\": pos,\n",
    "            \"neg\": neg,\n",
    "            \"neu\": neu\n",
    "            \n",
    "        })\n",
    "    \n",
    "\n",
    "# Your Code Here\n",
    "all_lines[0:2]"
   ]
  },
  {
   "cell_type": "code",
   "execution_count": 25,
   "metadata": {},
   "outputs": [
    {
     "data": {
      "text/html": [
       "<div>\n",
       "<style scoped>\n",
       "    .dataframe tbody tr th:only-of-type {\n",
       "        vertical-align: middle;\n",
       "    }\n",
       "\n",
       "    .dataframe tbody tr th {\n",
       "        vertical-align: top;\n",
       "    }\n",
       "\n",
       "    .dataframe thead th {\n",
       "        text-align: right;\n",
       "    }\n",
       "</style>\n",
       "<table border=\"1\" class=\"dataframe\">\n",
       "  <thead>\n",
       "    <tr style=\"text-align: right;\">\n",
       "      <th></th>\n",
       "      <th>neg</th>\n",
       "      <th>neu</th>\n",
       "      <th>pos</th>\n",
       "      <th>compound</th>\n",
       "      <th>poetry_line</th>\n",
       "    </tr>\n",
       "  </thead>\n",
       "  <tbody>\n",
       "    <tr>\n",
       "      <th>0</th>\n",
       "      <td>0.686</td>\n",
       "      <td>0.686</td>\n",
       "      <td>0.314</td>\n",
       "      <td>0.4939</td>\n",
       "      <td>with pale blue berries. in these peaceful shad...</td>\n",
       "    </tr>\n",
       "    <tr>\n",
       "      <th>1</th>\n",
       "      <td>1.000</td>\n",
       "      <td>1.000</td>\n",
       "      <td>0.000</td>\n",
       "      <td>0.0000</td>\n",
       "      <td>it flows so long as falls the rain,</td>\n",
       "    </tr>\n",
       "    <tr>\n",
       "      <th>2</th>\n",
       "      <td>0.706</td>\n",
       "      <td>0.706</td>\n",
       "      <td>0.000</td>\n",
       "      <td>-0.3612</td>\n",
       "      <td>and that is why, the lonesome day,</td>\n",
       "    </tr>\n",
       "    <tr>\n",
       "      <th>3</th>\n",
       "      <td>0.652</td>\n",
       "      <td>0.652</td>\n",
       "      <td>0.348</td>\n",
       "      <td>0.7914</td>\n",
       "      <td>when i peruse the conquered fame of heroes, an...</td>\n",
       "    </tr>\n",
       "    <tr>\n",
       "      <th>4</th>\n",
       "      <td>0.467</td>\n",
       "      <td>0.467</td>\n",
       "      <td>0.533</td>\n",
       "      <td>0.6908</td>\n",
       "      <td>of inward strife for truth and liberty.</td>\n",
       "    </tr>\n",
       "  </tbody>\n",
       "</table>\n",
       "</div>"
      ],
      "text/plain": [
       "     neg    neu    pos  compound  \\\n",
       "0  0.686  0.686  0.314    0.4939   \n",
       "1  1.000  1.000  0.000    0.0000   \n",
       "2  0.706  0.706  0.000   -0.3612   \n",
       "3  0.652  0.652  0.348    0.7914   \n",
       "4  0.467  0.467  0.533    0.6908   \n",
       "\n",
       "                                         poetry_line  \n",
       "0  with pale blue berries. in these peaceful shad...  \n",
       "1                it flows so long as falls the rain,  \n",
       "2                 and that is why, the lonesome day,  \n",
       "3  when i peruse the conquered fame of heroes, an...  \n",
       "4            of inward strife for truth and liberty.  "
      ]
     },
     "execution_count": 25,
     "metadata": {},
     "output_type": "execute_result"
    }
   ],
   "source": [
    "sentiment_df = pd.DataFrame(all_lines)\n",
    "cols = [\"neg\", \"neu\", \"pos\", \"compound\", \"poetry_line\"]\n",
    "sentiment_df=sentiment_df[cols]\n",
    "sentiment_df.head()"
   ]
  },
  {
   "cell_type": "code",
   "execution_count": 26,
   "metadata": {},
   "outputs": [
    {
     "data": {
      "text/html": [
       "<div>\n",
       "<style scoped>\n",
       "    .dataframe tbody tr th:only-of-type {\n",
       "        vertical-align: middle;\n",
       "    }\n",
       "\n",
       "    .dataframe tbody tr th {\n",
       "        vertical-align: top;\n",
       "    }\n",
       "\n",
       "    .dataframe thead th {\n",
       "        text-align: right;\n",
       "    }\n",
       "</style>\n",
       "<table border=\"1\" class=\"dataframe\">\n",
       "  <thead>\n",
       "    <tr style=\"text-align: right;\">\n",
       "      <th></th>\n",
       "      <th>neg</th>\n",
       "      <th>neu</th>\n",
       "      <th>pos</th>\n",
       "      <th>compound</th>\n",
       "      <th>poetry_line</th>\n",
       "    </tr>\n",
       "  </thead>\n",
       "  <tbody>\n",
       "    <tr>\n",
       "      <th>0</th>\n",
       "      <td>0.686</td>\n",
       "      <td>0.686</td>\n",
       "      <td>0.314</td>\n",
       "      <td>0.4939</td>\n",
       "      <td>with pale blue berries. in these peaceful shad...</td>\n",
       "    </tr>\n",
       "    <tr>\n",
       "      <th>1</th>\n",
       "      <td>1.000</td>\n",
       "      <td>1.000</td>\n",
       "      <td>0.000</td>\n",
       "      <td>0.0000</td>\n",
       "      <td>it flows so long as falls the rain,</td>\n",
       "    </tr>\n",
       "    <tr>\n",
       "      <th>2</th>\n",
       "      <td>0.706</td>\n",
       "      <td>0.706</td>\n",
       "      <td>0.000</td>\n",
       "      <td>-0.3612</td>\n",
       "      <td>and that is why, the lonesome day,</td>\n",
       "    </tr>\n",
       "    <tr>\n",
       "      <th>3</th>\n",
       "      <td>0.652</td>\n",
       "      <td>0.652</td>\n",
       "      <td>0.348</td>\n",
       "      <td>0.7914</td>\n",
       "      <td>when i peruse the conquered fame of heroes, an...</td>\n",
       "    </tr>\n",
       "    <tr>\n",
       "      <th>4</th>\n",
       "      <td>0.467</td>\n",
       "      <td>0.467</td>\n",
       "      <td>0.533</td>\n",
       "      <td>0.6908</td>\n",
       "      <td>of inward strife for truth and liberty.</td>\n",
       "    </tr>\n",
       "  </tbody>\n",
       "</table>\n",
       "</div>"
      ],
      "text/plain": [
       "     neg    neu    pos  compound  \\\n",
       "0  0.686  0.686  0.314    0.4939   \n",
       "1  1.000  1.000  0.000    0.0000   \n",
       "2  0.706  0.706  0.000   -0.3612   \n",
       "3  0.652  0.652  0.348    0.7914   \n",
       "4  0.467  0.467  0.533    0.6908   \n",
       "\n",
       "                                         poetry_line  \n",
       "0  with pale blue berries. in these peaceful shad...  \n",
       "1                it flows so long as falls the rain,  \n",
       "2                 and that is why, the lonesome day,  \n",
       "3  when i peruse the conquered fame of heroes, an...  \n",
       "4            of inward strife for truth and liberty.  "
      ]
     },
     "execution_count": 26,
     "metadata": {},
     "output_type": "execute_result"
    }
   ],
   "source": [
    "# After the loop, convert the list to a DataFrame.\n",
    "# Add the original line of poetry back into that DataFrame.\n",
    "sentiment_df = pd.DataFrame(all_lines)\n",
    "cols = [\"neg\", \"neu\", \"pos\", \"compound\", \"poetry_line\"]\n",
    "sentiment_df=sentiment_df[cols]\n",
    "sentiment_df.head()\n",
    "\n",
    "# Your Code Here\n",
    "sentiment_df.head()"
   ]
  },
  {
   "cell_type": "markdown",
   "metadata": {},
   "source": [
    "Analyze the above DataFrame to answer the following questions."
   ]
  },
  {
   "cell_type": "markdown",
   "metadata": {},
   "source": [
    "## Question 8\n",
    "\n",
    "- **5 points**\n",
    "\n",
    "Across the all the lines of poetry, what was the average positive (\"pos\") score?\n",
    "\n",
    "a. 1.50271\n",
    "\n",
    "b. 0.07353\n",
    "\n",
    "c. 0.48463\n",
    "\n",
    "d. 0.10775 "
   ]
  },
  {
   "cell_type": "markdown",
   "metadata": {},
   "source": [
    "### Please provide answer below"
   ]
  },
  {
   "cell_type": "code",
   "execution_count": 28,
   "metadata": {},
   "outputs": [
    {
     "data": {
      "text/html": [
       "<div>\n",
       "<style scoped>\n",
       "    .dataframe tbody tr th:only-of-type {\n",
       "        vertical-align: middle;\n",
       "    }\n",
       "\n",
       "    .dataframe tbody tr th {\n",
       "        vertical-align: top;\n",
       "    }\n",
       "\n",
       "    .dataframe thead th {\n",
       "        text-align: right;\n",
       "    }\n",
       "</style>\n",
       "<table border=\"1\" class=\"dataframe\">\n",
       "  <thead>\n",
       "    <tr style=\"text-align: right;\">\n",
       "      <th></th>\n",
       "      <th>neg</th>\n",
       "      <th>neu</th>\n",
       "      <th>pos</th>\n",
       "      <th>compound</th>\n",
       "    </tr>\n",
       "  </thead>\n",
       "  <tbody>\n",
       "    <tr>\n",
       "      <th>count</th>\n",
       "      <td>749.000000</td>\n",
       "      <td>749.000000</td>\n",
       "      <td>749.000000</td>\n",
       "      <td>749.000000</td>\n",
       "    </tr>\n",
       "    <tr>\n",
       "      <th>mean</th>\n",
       "      <td>0.819569</td>\n",
       "      <td>0.819569</td>\n",
       "      <td>0.107752</td>\n",
       "      <td>0.044218</td>\n",
       "    </tr>\n",
       "    <tr>\n",
       "      <th>std</th>\n",
       "      <td>0.217677</td>\n",
       "      <td>0.217677</td>\n",
       "      <td>0.185353</td>\n",
       "      <td>0.336327</td>\n",
       "    </tr>\n",
       "    <tr>\n",
       "      <th>min</th>\n",
       "      <td>0.000000</td>\n",
       "      <td>0.000000</td>\n",
       "      <td>0.000000</td>\n",
       "      <td>-0.886000</td>\n",
       "    </tr>\n",
       "    <tr>\n",
       "      <th>25%</th>\n",
       "      <td>0.642000</td>\n",
       "      <td>0.642000</td>\n",
       "      <td>0.000000</td>\n",
       "      <td>0.000000</td>\n",
       "    </tr>\n",
       "    <tr>\n",
       "      <th>50%</th>\n",
       "      <td>1.000000</td>\n",
       "      <td>1.000000</td>\n",
       "      <td>0.000000</td>\n",
       "      <td>0.000000</td>\n",
       "    </tr>\n",
       "    <tr>\n",
       "      <th>75%</th>\n",
       "      <td>1.000000</td>\n",
       "      <td>1.000000</td>\n",
       "      <td>0.231000</td>\n",
       "      <td>0.187700</td>\n",
       "    </tr>\n",
       "    <tr>\n",
       "      <th>max</th>\n",
       "      <td>1.000000</td>\n",
       "      <td>1.000000</td>\n",
       "      <td>1.000000</td>\n",
       "      <td>0.958800</td>\n",
       "    </tr>\n",
       "  </tbody>\n",
       "</table>\n",
       "</div>"
      ],
      "text/plain": [
       "              neg         neu         pos    compound\n",
       "count  749.000000  749.000000  749.000000  749.000000\n",
       "mean     0.819569    0.819569    0.107752    0.044218\n",
       "std      0.217677    0.217677    0.185353    0.336327\n",
       "min      0.000000    0.000000    0.000000   -0.886000\n",
       "25%      0.642000    0.642000    0.000000    0.000000\n",
       "50%      1.000000    1.000000    0.000000    0.000000\n",
       "75%      1.000000    1.000000    0.231000    0.187700\n",
       "max      1.000000    1.000000    1.000000    0.958800"
      ]
     },
     "execution_count": 28,
     "metadata": {},
     "output_type": "execute_result"
    }
   ],
   "source": [
    "# Calculate average positive sentiment score value:\n",
    "sentiment_df.describe()\n",
    "D "
   ]
  },
  {
   "cell_type": "markdown",
   "metadata": {},
   "source": [
    "## Question 9\n",
    "\n",
    "- **5 points**\n",
    "\n",
    "Across the all the lines of poetry, what was the average negative (\"neg\") score?\n",
    "\n",
    "a. 0.07268\n",
    "\n",
    "b. 9.21031\n",
    "\n",
    "c. 0.58732\n",
    "\n",
    "d. 0.13075"
   ]
  },
  {
   "cell_type": "markdown",
   "metadata": {},
   "source": [
    "### Please provide answer below"
   ]
  },
  {
   "cell_type": "code",
   "execution_count": 4,
   "metadata": {},
   "outputs": [],
   "source": [
    "# Calculate average negative sentiment score value:\n",
    ".819"
   ]
  },
  {
   "cell_type": "markdown",
   "metadata": {},
   "source": [
    "## Question 10\n",
    "- **5 points**\n",
    "\n",
    "Based on your answers above, was the poetry more upbeat, on average, or would you quantify the poetry tone as being predominantly gloomy?\n",
    "\n",
    "a. upbeat on average\n",
    "\n",
    "b. predominantly gloomy\n",
    "\n",
    "c. decidedly neutral\n",
    "\n"
   ]
  },
  {
   "cell_type": "markdown",
   "metadata": {},
   "source": [
    "### Please provide answer below"
   ]
  },
  {
   "cell_type": "markdown",
   "metadata": {},
   "source": [
    "# C"
   ]
  },
  {
   "cell_type": "code",
   "execution_count": null,
   "metadata": {},
   "outputs": [],
   "source": []
  }
 ],
 "metadata": {
  "anaconda-cloud": {},
  "colab": {
   "collapsed_sections": [],
   "name": "Big_Data_Spark_Assessment_solution.ipynb",
   "provenance": []
  },
  "kernel_info": {
   "name": "python3"
  },
  "kernelspec": {
   "display_name": "Python 3 (ipykernel)",
   "language": "python",
   "name": "python3"
  },
  "language_info": {
   "codemirror_mode": {
    "name": "ipython",
    "version": 3
   },
   "file_extension": ".py",
   "mimetype": "text/x-python",
   "name": "python",
   "nbconvert_exporter": "python",
   "pygments_lexer": "ipython3",
   "version": "3.9.7"
  },
  "nbpresent": {
   "slides": {},
   "themes": {
    "default": "0535adbc-b74f-46cc-9cd6-4eabe2477c8e",
    "theme": {
     "0535adbc-b74f-46cc-9cd6-4eabe2477c8e": {
      "backgrounds": {
       "backgroundColor": {
        "background-color": "backgroundColor",
        "id": "backgroundColor"
       }
      },
      "id": "0535adbc-b74f-46cc-9cd6-4eabe2477c8e",
      "palette": {
       "backgroundColor": {
        "id": "backgroundColor",
        "rgb": [
         43,
         43,
         43
        ]
       },
       "headingColor": {
        "id": "headingColor",
        "rgb": [
         238,
         238,
         238
        ]
       },
       "linkColor": {
        "id": "linkColor",
        "rgb": [
         19,
         218,
         236
        ]
       },
       "mainColor": {
        "id": "mainColor",
        "rgb": [
         238,
         238,
         238
        ]
       }
      },
      "rules": {
       "a": {
        "color": "linkColor"
       },
       "h1": {
        "color": "headingColor",
        "font-family": "Oswald",
        "font-size": 7
       },
       "h2": {
        "color": "headingColor",
        "font-family": "Oswald",
        "font-size": 5
       },
       "h3": {
        "color": "headingColor",
        "font-family": "Oswald",
        "font-size": 3.75
       },
       "h4": {
        "color": "headingColor",
        "font-family": "Oswald",
        "font-size": 3
       },
       "h5": {
        "color": "headingColor",
        "font-family": "Oswald"
       },
       "h6": {
        "color": "headingColor",
        "font-family": "Oswald"
       },
       "h7": {
        "color": "headingColor",
        "font-family": "Oswald"
       },
       "li": {
        "color": "mainColor",
        "font-family": "Lato",
        "font-size": 5
       },
       "p": {
        "color": "mainColor",
        "font-family": "Lato",
        "font-size": 5
       }
      },
      "text-base": {
       "color": "mainColor",
       "font-family": "Lato",
       "font-size": 5
      }
     },
     "cc59980f-cb69-400a-b63a-1fb85ca73c8a": {
      "backgrounds": {
       "dc7afa04-bf90-40b1-82a5-726e3cff5267": {
        "background-color": "31af15d2-7e15-44c5-ab5e-e04b16a89eff",
        "id": "dc7afa04-bf90-40b1-82a5-726e3cff5267"
       }
      },
      "id": "cc59980f-cb69-400a-b63a-1fb85ca73c8a",
      "palette": {
       "19cc588f-0593-49c9-9f4b-e4d7cc113b1c": {
        "id": "19cc588f-0593-49c9-9f4b-e4d7cc113b1c",
        "rgb": [
         252,
         252,
         252
        ]
       },
       "31af15d2-7e15-44c5-ab5e-e04b16a89eff": {
        "id": "31af15d2-7e15-44c5-ab5e-e04b16a89eff",
        "rgb": [
         68,
         68,
         68
        ]
       },
       "50f92c45-a630-455b-aec3-788680ec7410": {
        "id": "50f92c45-a630-455b-aec3-788680ec7410",
        "rgb": [
         197,
         226,
         245
        ]
       },
       "c5cc3653-2ee1-402a-aba2-7caae1da4f6c": {
        "id": "c5cc3653-2ee1-402a-aba2-7caae1da4f6c",
        "rgb": [
         43,
         126,
         184
        ]
       },
       "efa7f048-9acb-414c-8b04-a26811511a21": {
        "id": "efa7f048-9acb-414c-8b04-a26811511a21",
        "rgb": [
         25.118061674008803,
         73.60176211453744,
         107.4819383259912
        ]
       }
      },
      "rules": {
       "a": {
        "color": "19cc588f-0593-49c9-9f4b-e4d7cc113b1c"
       },
       "blockquote": {
        "color": "50f92c45-a630-455b-aec3-788680ec7410",
        "font-size": 3
       },
       "code": {
        "font-family": "Anonymous Pro"
       },
       "h1": {
        "color": "19cc588f-0593-49c9-9f4b-e4d7cc113b1c",
        "font-family": "Merriweather",
        "font-size": 8
       },
       "h2": {
        "color": "19cc588f-0593-49c9-9f4b-e4d7cc113b1c",
        "font-family": "Merriweather",
        "font-size": 6
       },
       "h3": {
        "color": "50f92c45-a630-455b-aec3-788680ec7410",
        "font-family": "Lato",
        "font-size": 5.5
       },
       "h4": {
        "color": "c5cc3653-2ee1-402a-aba2-7caae1da4f6c",
        "font-family": "Lato",
        "font-size": 5
       },
       "h5": {
        "font-family": "Lato"
       },
       "h6": {
        "font-family": "Lato"
       },
       "h7": {
        "font-family": "Lato"
       },
       "li": {
        "color": "50f92c45-a630-455b-aec3-788680ec7410",
        "font-size": 3.25
       },
       "pre": {
        "font-family": "Anonymous Pro",
        "font-size": 4
       }
      },
      "text-base": {
       "color": "19cc588f-0593-49c9-9f4b-e4d7cc113b1c",
       "font-family": "Lato",
       "font-size": 4
      }
     }
    }
   }
  },
  "nteract": {
   "version": "0.10.0"
  },
  "varInspector": {
   "cols": {
    "lenName": 16,
    "lenType": 16,
    "lenVar": 40
   },
   "kernels_config": {
    "python": {
     "delete_cmd_postfix": "",
     "delete_cmd_prefix": "del ",
     "library": "var_list.py",
     "varRefreshCmd": "print(var_dic_list())"
    },
    "r": {
     "delete_cmd_postfix": ") ",
     "delete_cmd_prefix": "rm(",
     "library": "var_list.r",
     "varRefreshCmd": "cat(var_dic_list()) "
    }
   },
   "types_to_exclude": [
    "module",
    "function",
    "builtin_function_or_method",
    "instance",
    "_Feature"
   ],
   "window_display": false
  }
 },
 "nbformat": 4,
 "nbformat_minor": 1
}
